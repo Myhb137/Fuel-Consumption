{
 "cells": [
  {
   "cell_type": "code",
   "execution_count": 6,
   "id": "f92d8a42",
   "metadata": {},
   "outputs": [],
   "source": [
    "from sklearn.model_selection import train_test_split\n",
    "from sklearn.linear_model import LinearRegression\n",
    "import pandas as pd \n",
    "import matplotlib.pyplot as plt"
   ]
  },
  {
   "cell_type": "code",
   "execution_count": 7,
   "id": "4b1dea74",
   "metadata": {},
   "outputs": [],
   "source": [
    "data = pd.read_csv('../data/data.csv')"
   ]
  },
  {
   "cell_type": "code",
   "execution_count": 8,
   "id": "b32767a6",
   "metadata": {},
   "outputs": [],
   "source": [
    "X = data[[\"ENGINE SIZE\" , \"CYLINDERS\"]]\n",
    "y = data[\"FUEL CONSUMPTION\"]"
   ]
  },
  {
   "cell_type": "code",
   "execution_count": 9,
   "id": "0122e142",
   "metadata": {},
   "outputs": [],
   "source": [
    "X_train, X_test, y_train, y_test = train_test_split(X, y, test_size=0.2, random_state=42)"
   ]
  },
  {
   "cell_type": "code",
   "execution_count": null,
   "id": "84665e83",
   "metadata": {},
   "outputs": [
    {
     "data": {
      "text/plain": [
       "array([15.7358836 , 15.18213596, 12.91572927, 21.24302587, 12.75685481,\n",
       "       14.25922324, 13.33631052, 12.91572927, 20.40186336, 16.10504868,\n",
       "       11.25448637, 11.99281655, 16.65879631, 11.25448637, 12.54656418,\n",
       "       10.88532129, 15.7358836 , 12.54656418, 10.70073874, 11.99281655,\n",
       "       14.99755342, 14.99755342, 14.99755342, 11.25448637, 18.74062047,\n",
       "       20.03269827, 20.03269827, 12.36198164, 11.25448637, 15.7358836 ,\n",
       "       18.00229029, 13.33631052, 16.47421377, 16.65879631, 18.00229029,\n",
       "       11.25448637, 14.62838833, 16.65879631, 11.99281655, 12.17739909,\n",
       "       15.7358836 , 11.62365146, 21.24302587, 11.25448637, 19.2943681 ,\n",
       "       12.17739909, 14.25922324, 16.65879631, 16.10504868, 11.62365146,\n",
       "       12.75685481, 11.62365146, 16.89479503, 13.89005816, 14.25922324,\n",
       "       25.06784313, 18.74062047, 11.62365146, 21.24302587, 20.03269827,\n",
       "       16.65879631, 16.10504868, 16.65879631, 11.62365146, 17.6331252 ,\n",
       "       16.65879631, 11.25448637, 13.89005816, 15.7358836 , 13.33631052,\n",
       "       11.25448637, 18.37145538, 18.37145538, 10.88532129, 18.74062047,\n",
       "       19.2943681 , 12.36198164, 20.40186336, 12.36198164, 11.62365146,\n",
       "       15.7358836 , 20.40186336, 13.89005816, 14.81297088, 16.15646485,\n",
       "       13.33631052, 17.44854266, 14.25922324, 18.00229029, 19.10978555,\n",
       "       11.62365146, 17.26396011, 12.75685481, 15.92046614, 13.89005816,\n",
       "       18.37145538, 19.2943681 , 20.03269827, 16.65879631, 11.43906892,\n",
       "       18.00229029, 14.25922324, 12.57227226, 19.2943681 , 12.17739909,\n",
       "       14.44380579, 14.25922324, 14.25922324, 14.62838833, 18.74062047,\n",
       "       11.43906892, 16.10504868, 11.25448637, 22.16593859, 16.89479503,\n",
       "       11.25448637, 19.47895064, 11.62365146, 12.36198164, 11.25448637,\n",
       "       14.99755342, 11.62365146, 21.24302587, 17.44854266, 18.00229029,\n",
       "       16.47421377, 12.54656418, 17.44854266])"
      ]
     },
     "execution_count": 11,
     "metadata": {},
     "output_type": "execute_result"
    }
   ],
   "source": [
    "model = LinearRegression()\n",
    "model.fit(X_train, y_train)\n",
    "y_pred = model.predict(X_test)\n",
    "\n"
   ]
  },
  {
   "cell_type": "code",
   "execution_count": 19,
   "id": "46c64b7d",
   "metadata": {},
   "outputs": [
    {
     "data": {
      "text/plain": [
       "1.357450459237699"
      ]
     },
     "execution_count": 19,
     "metadata": {},
     "output_type": "execute_result"
    }
   ],
   "source": [
    "from sklearn.metrics import mean_absolute_error\n",
    "\n",
    "mae = mean_absolute_error(y_test, y_pred)\n",
    "\n",
    "mae"
   ]
  },
  {
   "cell_type": "code",
   "execution_count": 18,
   "id": "928ca520",
   "metadata": {},
   "outputs": [
    {
     "data": {
      "text/plain": [
       "count    639.000000\n",
       "mean      14.713615\n",
       "std        3.307044\n",
       "min        4.900000\n",
       "25%       12.500000\n",
       "50%       14.400000\n",
       "75%       16.600000\n",
       "max       30.200000\n",
       "Name: FUEL CONSUMPTION, dtype: float64"
      ]
     },
     "execution_count": 18,
     "metadata": {},
     "output_type": "execute_result"
    }
   ],
   "source": [
    "data[\"FUEL CONSUMPTION\"].describe() "
   ]
  },
  {
   "cell_type": "code",
   "execution_count": 21,
   "id": "345a582e",
   "metadata": {},
   "outputs": [
    {
     "data": {
      "text/plain": [
       "['../models/fuel_consumption_model.pkl']"
      ]
     },
     "execution_count": 21,
     "metadata": {},
     "output_type": "execute_result"
    }
   ],
   "source": [
    "import joblib\n",
    "joblib.dump(model, '../models/fuel_consumption_model.pkl')\n"
   ]
  }
 ],
 "metadata": {
  "kernelspec": {
   "display_name": "Python 3",
   "language": "python",
   "name": "python3"
  },
  "language_info": {
   "codemirror_mode": {
    "name": "ipython",
    "version": 3
   },
   "file_extension": ".py",
   "mimetype": "text/x-python",
   "name": "python",
   "nbconvert_exporter": "python",
   "pygments_lexer": "ipython3",
   "version": "3.13.2"
  }
 },
 "nbformat": 4,
 "nbformat_minor": 5
}
